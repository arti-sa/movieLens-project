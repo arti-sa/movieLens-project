{
 "cells": [
  {
   "cell_type": "code",
   "execution_count": 19,
   "id": "8b1014e8-3c6e-424d-af96-6136544b51a7",
   "metadata": {},
   "outputs": [
    {
     "data": {
      "text/html": [
       "<pre style=\"white-space:pre;overflow-x:auto;line-height:normal;font-family:Menlo,'DejaVu Sans Mono',consolas,'Courier New',monospace\"><span style=\"color: #808000; text-decoration-color: #808000; font-weight: bold\">C:\\Users\\ArtiSadikaj\\AppData\\Local\\Temp\\ipykernel_35460\\</span><span style=\"color: #808000; text-decoration-color: #808000; font-weight: bold\">3371322860.</span><span style=\"color: #808000; text-decoration-color: #808000; font-weight: bold\">py:</span><span style=\"color: #808000; text-decoration-color: #808000; font-weight: bold\">2</span><span style=\"color: #808000; text-decoration-color: #808000; font-weight: bold\"> DeprecationWarning</span><span style=\"color: #808000; text-decoration-color: #808000\">: The `airflow.operators.python_operator.PythonOperator` class is deprecated. Please use `</span><span style=\"color: #808000; text-decoration-color: #808000\">'airflow.operators.python.PythonOperator'</span><span style=\"color: #808000; text-decoration-color: #808000\">`.</span>\n",
       "</pre>\n"
      ],
      "text/plain": [
       "\u001b[1;33mC:\\Users\\ArtiSadikaj\\AppData\\Local\\Temp\\ipykernel_35460\\\u001b[0m\u001b[1;33m3371322860.\u001b[0m\u001b[1;33mpy:\u001b[0m\u001b[1;33m2\u001b[0m\u001b[1;33m DeprecationWarning\u001b[0m\u001b[33m: The `airflow.operators.python_operator.PythonOperator` class is deprecated. Please use `\u001b[0m\u001b[33m'airflow.operators.python.PythonOperator'\u001b[0m\u001b[33m`.\u001b[0m\n"
      ]
     },
     "metadata": {},
     "output_type": "display_data"
    }
   ],
   "source": [
    "from airflow import DAG\n",
    "from airflow.operators.python_operator import PythonOperator\n",
    "from datetime import datetime\n"
   ]
  },
  {
   "cell_type": "code",
   "execution_count": 25,
   "id": "551be327-b963-4c18-8b3c-33197ec34336",
   "metadata": {},
   "outputs": [],
   "source": [
    "def run_movies_ingestion():\n",
    "    exec(open('movies_ingestion.ipynb').read())\n",
    "\n",
    "with DAG('etl_pipeline', start_date=datetime(2024, 11, 6), schedule='* * * * *', catchup=False) as dag:\n",
    "    etl_task = PythonOperator(task_id='movies_ingestion_etl', python_callable=run_movies_ingestion)"
   ]
  },
  {
   "cell_type": "code",
   "execution_count": null,
   "id": "0e2a45f4-7fa2-4c23-8171-b749e97d9449",
   "metadata": {},
   "outputs": [],
   "source": []
  }
 ],
 "metadata": {
  "kernelspec": {
   "display_name": "Python 3 (ipykernel)",
   "language": "python",
   "name": "python3"
  },
  "language_info": {
   "codemirror_mode": {
    "name": "ipython",
    "version": 3
   },
   "file_extension": ".py",
   "mimetype": "text/x-python",
   "name": "python",
   "nbconvert_exporter": "python",
   "pygments_lexer": "ipython3",
   "version": "3.12.7"
  }
 },
 "nbformat": 4,
 "nbformat_minor": 5
}
